{
 "cells": [
  {
   "cell_type": "markdown",
   "id": "ff46bf6d",
   "metadata": {},
   "source": [
    "# Python oops Questions & Answer \n"
   ]
  },
  {
   "cell_type": "markdown",
   "id": "1a21ad39",
   "metadata": {},
   "source": [
    "1. What is Object-Oriented Programming (OOP)?\n",
    "Ans:- OOP is a programming paradigm where real-world entities are represented as objects containing data (attributes) and behavior (methods)."
   ]
  },
  {
   "cell_type": "markdown",
   "id": "490f36c9",
   "metadata": {},
   "source": [
    "2. What is a class in OOP?\n",
    "Ans:- A class is a blueprint or template used to create objects."
   ]
  },
  {
   "cell_type": "markdown",
   "id": "68abd58d",
   "metadata": {},
   "source": [
    "3. What is an object in OOP?\n",
    "Ans:- An object is an instance of a class that represents a real-world entity."
   ]
  },
  {
   "cell_type": "markdown",
   "id": "00f39dbd",
   "metadata": {},
   "source": [
    "4. Difference between abstraction and encapsulation\n",
    "\n",
    "# Abstraction: Hiding implementation details and showing only essential features.\n",
    "\n",
    "# Encapsulation: Binding data and methods together and controlling access."
   ]
  },
  {
   "cell_type": "markdown",
   "id": "8bd5b24c",
   "metadata": {},
   "source": [
    "5. What are dunder methods in Python?\n",
    "Ans:- Special methods in Python written with double underscores (e.g., __init__, __str__) that are automatically invoked by Python."
   ]
  },
  {
   "cell_type": "markdown",
   "id": "d0194799",
   "metadata": {},
   "source": [
    "6. Explain the concept of inheritance in OOP\n",
    "Ans:- Inheritance allows one class (child) to acquire properties and methods of another class (parent)."
   ]
  },
  {
   "cell_type": "markdown",
   "id": "347078f3",
   "metadata": {},
   "source": [
    "7. What is polymorphism in OOP?\n",
    "Ans:- Polymorphism means \"many forms\" where the same function or operator works differently depending on the object."
   ]
  },
  {
   "cell_type": "markdown",
   "id": "5063a155",
   "metadata": {},
   "source": [
    "8. How is encapsulation achieved in Python?\n",
    "Ans:- Encapsulation is achieved using access modifiers: public, protected (_var), and private (__var)."
   ]
  },
  {
   "cell_type": "markdown",
   "id": "b9e20d60",
   "metadata": {},
   "source": [
    "9. What is a constructor in Python?\n",
    "Ans:- The __init__ method is a constructor that is automatically called when an object is created."
   ]
  },
  {
   "cell_type": "markdown",
   "id": "c4d4b6d6",
   "metadata": {},
   "source": [
    "10. What are class and static methods in Python?\n",
    "\n",
    "# Class Method: Declared with @classmethod, takes cls as the first parameter.\n",
    "\n",
    "# Static Method: Declared with @staticmethod, does not take cls or self"
   ]
  },
  {
   "cell_type": "markdown",
   "id": "28eaa88d",
   "metadata": {},
   "source": [
    "11. What is method overloading in Python?\n",
    "Ans:- Python does not support true method overloading, but it can be simulated using default or variable arguments."
   ]
  },
  {
   "cell_type": "markdown",
   "id": "55b01b3e",
   "metadata": {},
   "source": [
    "12. What is method overriding in OOP?\n",
    "Ans:- Method overriding occurs when a child class redefines a method of its parent class with the same name."
   ]
  },
  {
   "cell_type": "markdown",
   "id": "c1b4894f",
   "metadata": {},
   "source": [
    "13. What is a property decorator in Python?\n",
    "Ans:- @property allows a method to be accessed like an attribute."
   ]
  },
  {
   "cell_type": "markdown",
   "id": "1b12e489",
   "metadata": {},
   "source": [
    "14. Why is polymorphism important in OOP?\n",
    "Ans:- It increases flexibility and reusability by allowing the same interface to be used for different types of objects."
   ]
  },
  {
   "cell_type": "markdown",
   "id": "abadbfad",
   "metadata": {},
   "source": [
    "15. What is an abstract class in Python?\n",
    "Ans:- A class that cannot be instantiated directly and may contain abstract methods. Defined using the abc module."
   ]
  },
  {
   "cell_type": "markdown",
   "id": "d3538ecb",
   "metadata": {},
   "source": [
    "16. What are the advantages of OOP?\n",
    "\n",
    "Modularity\n",
    "Reusability\n",
    "Data hiding\n",
    "Easier maintenance\n",
    "Real-world modeling"
   ]
  },
  {
   "cell_type": "markdown",
   "id": "23e53b57",
   "metadata": {},
   "source": [
    "17. Difference between class variable and instance variable\n",
    "\n",
    "# Class Variable: Shared by all objects of the class.\n",
    "\n",
    "# Instance Variable: Unique for each object."
   ]
  },
  {
   "cell_type": "markdown",
   "id": "682cad59",
   "metadata": {},
   "source": [
    "18. What is multiple inheritance in Python?\n",
    "Ans:- When a class inherits from more than one parent class."
   ]
  },
  {
   "cell_type": "markdown",
   "id": "5bf8f355",
   "metadata": {},
   "source": [
    "19. Purpose of __str__ and __repr__ methods\n",
    "\n",
    "# __str__: Returns a user-friendly string representation.\n",
    "\n",
    "# __repr__: Returns a developer-friendly string for debugging."
   ]
  },
  {
   "cell_type": "markdown",
   "id": "e4d51140",
   "metadata": {},
   "source": [
    "20. Significance of super() function\n",
    "Ans:- Used to call methods of the parent class from the child class."
   ]
  },
  {
   "cell_type": "markdown",
   "id": "5a1ac453",
   "metadata": {},
   "source": [
    "21. Significance of __del__ method\n",
    "Ans:- It is a destructor method that is called when an object is deleted."
   ]
  },
  {
   "cell_type": "markdown",
   "id": "c2cf0935",
   "metadata": {},
   "source": [
    "22. Difference between @staticmethod and @classmethod\n",
    "\n",
    "# @staticmethod: Does not require class or instance reference.\n",
    "\n",
    "# @classmethod: Requires a class reference (cls)."
   ]
  },
  {
   "cell_type": "markdown",
   "id": "2a6f2ada",
   "metadata": {},
   "source": [
    "23. How does polymorphism work in Python with inheritance?\n",
    "Ans:- A parent class method can be overridden in child classes to provide different implementations."
   ]
  },
  {
   "cell_type": "markdown",
   "id": "1346e503",
   "metadata": {},
   "source": [
    "24. What is method chaining in Python OOP?\n",
    "Ans:- Calling multiple methods in a single line because each method returns the object itself."
   ]
  },
  {
   "cell_type": "markdown",
   "id": "68786aa7",
   "metadata": {},
   "source": [
    "25. Purpose of the __call__ method in Python\n",
    "Ans:- Allows an object to be called like a function."
   ]
  },
  {
   "cell_type": "markdown",
   "id": "95df7c2a",
   "metadata": {},
   "source": [
    "# PRACTICAL QUESTIONS"
   ]
  },
  {
   "cell_type": "code",
   "execution_count": 5,
   "id": "8dfc1537",
   "metadata": {},
   "outputs": [
    {
     "name": "stdout",
     "output_type": "stream",
     "text": [
      "The animal makes a sound.\n",
      "Bark!\n"
     ]
    }
   ],
   "source": [
    "#1. Create a parent class Animal with a method speak() that prints a generic message. Create a child class Dog\n",
    "# that overrides the speak() method to print \"Bark!\".\n",
    "#Ans:-\n",
    "#parent class\n",
    "class Animal:\n",
    "    def speak(self):\n",
    "        print(\"The animal makes a sound.\")\n",
    "#child class\n",
    "class Dog(Animal):\n",
    "    def speak(self):\n",
    "        print(\"Bark!\")  \n",
    "# Create an instance of Dog and call the speak() method\n",
    "a=Animal()\n",
    "a.speak()\n",
    "dog = Dog()\n",
    "dog.speak()  "
   ]
  },
  {
   "cell_type": "code",
   "execution_count": 6,
   "id": "f6f13323",
   "metadata": {},
   "outputs": [
    {
     "name": "stdout",
     "output_type": "stream",
     "text": [
      "Area of Circle: 78.53981633974483\n",
      "Area of Rectangle: 24\n"
     ]
    }
   ],
   "source": [
    "#2. Write a program to create an abstract class Shape with a method area(). Derive classes Circle and Rectangle from it and implement the area() method in both.\n",
    "#Ans:-\n",
    "from abc import ABC, abstractmethod\n",
    "import math\n",
    "\n",
    "# Abstract class\n",
    "class Shape(ABC):\n",
    "    @abstractmethod\n",
    "    def area(self):\n",
    "        pass   # must be implemented by child classes\n",
    "\n",
    "# Derived class - Circle\n",
    "class Circle(Shape):\n",
    "    def __init__(self, radius):\n",
    "        self.radius = radius\n",
    "\n",
    "    def area(self):\n",
    "        return math.pi * self.radius * self.radius\n",
    "\n",
    "# Derived class - Rectangle\n",
    "class Rectangle(Shape):\n",
    "    def __init__(self, length, width):\n",
    "        self.length = length\n",
    "        self.width = width\n",
    "\n",
    "    def area(self):\n",
    "        return self.length * self.width\n",
    "\n",
    "# Creating objects\n",
    "c = Circle(5)\n",
    "r = Rectangle(4, 6)\n",
    "\n",
    "# Calling methods\n",
    "print(\"Area of Circle:\", c.area())\n",
    "print(\"Area of Rectangle:\", r.area())\n"
   ]
  },
  {
   "cell_type": "code",
   "execution_count": 7,
   "id": "86377d5f",
   "metadata": {},
   "outputs": [
    {
     "name": "stdout",
     "output_type": "stream",
     "text": [
      "Type: Four Wheeler, Brand: Tesla, Battery: 75 kWh\n"
     ]
    }
   ],
   "source": [
    "#3. Implement a multi-level inheritance scenario where a class Vehicle has an attribute type. Derive a class Car\n",
    "# and further derive a class ElectricCar that adds a battery attribute.\n",
    "#Ans:-\n",
    "# Base class\n",
    "class Vehicle:\n",
    "    def __init__(self, vehicle_type):\n",
    "        self.vehicle_type = vehicle_type\n",
    "\n",
    "# Derived class (from Vehicle)\n",
    "class Car(Vehicle):\n",
    "    def __init__(self, vehicle_type, brand):\n",
    "        super().__init__(vehicle_type)   # call parent constructor\n",
    "        self.brand = brand\n",
    "\n",
    "# Further derived class (from Car)\n",
    "class ElectricCar(Car):\n",
    "    def __init__(self, vehicle_type, brand, battery_capacity):\n",
    "        super().__init__(vehicle_type, brand)  # call Car constructor\n",
    "        self.battery_capacity = battery_capacity\n",
    "\n",
    "    def display_info(self):\n",
    "        print(f\"Type: {self.vehicle_type}, Brand: {self.brand}, Battery: {self.battery_capacity} kWh\")\n",
    "\n",
    "\n",
    "# Creating object of ElectricCar\n",
    "tesla = ElectricCar(\"Four Wheeler\", \"Tesla\", 75)\n",
    "\n",
    "# Display info\n",
    "tesla.display_info()\n"
   ]
  },
  {
   "cell_type": "code",
   "execution_count": 8,
   "id": "d708a95b",
   "metadata": {},
   "outputs": [
    {
     "name": "stdout",
     "output_type": "stream",
     "text": [
      "Sparrow can fly high in the sky.\n",
      "Penguins cannot fly, they swim instead.\n"
     ]
    }
   ],
   "source": [
    "#4. Demonstrate polymorphism by creating a base class Bird with a method fly(). Create two derived classes\n",
    "# Sparrow and Penguin that override the fly() method.\n",
    "#Ans:-\n",
    "# Base class\n",
    "class Bird:\n",
    "    def fly(self):\n",
    "        print(\"Some birds can fly.\")\n",
    "\n",
    "# Derived class - Sparrow\n",
    "class Sparrow(Bird):\n",
    "    def fly(self):\n",
    "        print(\"Sparrow can fly high in the sky.\")\n",
    "\n",
    "# Derived class - Penguin\n",
    "class Penguin(Bird):\n",
    "    def fly(self):\n",
    "        print(\"Penguins cannot fly, they swim instead.\")\n",
    "\n",
    "# Function that demonstrates polymorphism\n",
    "def show_flight(bird):\n",
    "    bird.fly()\n",
    "\n",
    "# Creating objects\n",
    "sparrow = Sparrow()\n",
    "penguin = Penguin()\n",
    "\n",
    "# Polymorphism in action\n",
    "show_flight(sparrow)   # calls Sparrow's fly()\n",
    "show_flight(penguin)   # calls Penguin's fly()\n"
   ]
  },
  {
   "cell_type": "code",
   "execution_count": 9,
   "id": "3725e04d",
   "metadata": {},
   "outputs": [
    {
     "name": "stdout",
     "output_type": "stream",
     "text": [
      "Current Balance: 1000\n",
      "Deposited: 500\n",
      "Current Balance: 1500\n",
      "Withdrew: 300\n",
      "Current Balance: 1200\n"
     ]
    }
   ],
   "source": [
    "#5. Write a program to demonstrate encapsulation by creating a class BankAccount with private attributes\n",
    "# balance and methods to deposit, withdraw, and check balance\n",
    "#Ans:-\n",
    "class BankAccount:\n",
    "    def __init__(self, initial_balance=0):\n",
    "        # private attribute\n",
    "        self.__balance = initial_balance\n",
    "\n",
    "    # Method to deposit money\n",
    "    def deposit(self, amount):\n",
    "        if amount > 0:\n",
    "            self.__balance += amount\n",
    "            print(f\"Deposited: {amount}\")\n",
    "        else:\n",
    "            print(\"Invalid deposit amount.\")\n",
    "\n",
    "    # Method to withdraw money\n",
    "    def withdraw(self, amount):\n",
    "        if 0 < amount <= self.__balance:\n",
    "            self.__balance -= amount\n",
    "            print(f\"Withdrew: {amount}\")\n",
    "        else:\n",
    "            print(\"Insufficient balance or invalid amount.\")\n",
    "\n",
    "    # Method to check balance\n",
    "    def check_balance(self):\n",
    "        print(f\"Current Balance: {self.__balance}\")\n",
    "\n",
    "\n",
    "# Using the class\n",
    "account = BankAccount(1000)   # initial balance = 1000\n",
    "account.check_balance()\n",
    "\n",
    "account.deposit(500)\n",
    "account.check_balance()\n",
    "\n",
    "account.withdraw(300)\n",
    "account.check_balance()\n",
    "\n",
    "# Trying to access private variable directly (not recommended)\n",
    "# print(account.__balance)   # AttributeError\n",
    "\n"
   ]
  },
  {
   "cell_type": "code",
   "execution_count": 10,
   "id": "ac8ac005",
   "metadata": {},
   "outputs": [
    {
     "name": "stdout",
     "output_type": "stream",
     "text": [
      "Strumming the guitar.\n",
      "Playing the piano.\n"
     ]
    }
   ],
   "source": [
    "#6. Demonstrate runtime polymorphism using a method play() in a base class Instrument. Derive classes Guitar\n",
    "#and Piano that implement their own version of play().\n",
    "#Ans:--\n",
    "# Base class\n",
    "class Instrument:\n",
    "    def play(self):\n",
    "        print(\"Playing an instrument.\")\n",
    "\n",
    "# Derived class - Guitar\n",
    "class Guitar(Instrument):\n",
    "    def play(self):\n",
    "        print(\"Strumming the guitar.\")\n",
    "\n",
    "# Derived class - Piano\n",
    "class Piano(Instrument):\n",
    "    def play(self):\n",
    "        print(\"Playing the piano.\")\n",
    "\n",
    "# Function to demonstrate runtime polymorphism\n",
    "def perform(instrument):\n",
    "    instrument.play()   # which play() gets called depends on object type at runtime\n",
    "\n",
    "# Creating objects\n",
    "g = Guitar()\n",
    "p = Piano()\n",
    "\n",
    "# Runtime polymorphism in action\n",
    "perform(g)   # calls Guitar's play()\n",
    "perform(p)   # calls Piano's play()\n"
   ]
  },
  {
   "cell_type": "code",
   "execution_count": 11,
   "id": "5b42c34c",
   "metadata": {},
   "outputs": [
    {
     "name": "stdout",
     "output_type": "stream",
     "text": [
      "Addition: 15\n",
      "Subtraction: 5\n"
     ]
    }
   ],
   "source": [
    "#7. Create a class MathOperations with a class method add_numbers() to add two numbers and a static\n",
    "#method subtract_numbers() to subtract two numbers.\n",
    "#Ans:-\n",
    "class MathOperations:\n",
    "    # Class method\n",
    "    @classmethod\n",
    "    def add_numbers(cls, a, b):\n",
    "        return a + b\n",
    "\n",
    "    # Static method\n",
    "    @staticmethod\n",
    "    def subtract_numbers(a, b):\n",
    "        return a - b\n",
    "\n",
    "\n",
    "# Using the methods\n",
    "print(\"Addition:\", MathOperations.add_numbers(10, 5))\n",
    "print(\"Subtraction:\", MathOperations.subtract_numbers(10, 5))\n"
   ]
  },
  {
   "cell_type": "code",
   "execution_count": 12,
   "id": "ea9b1d72",
   "metadata": {},
   "outputs": [
    {
     "name": "stdout",
     "output_type": "stream",
     "text": [
      "Total Persons created: 3\n"
     ]
    }
   ],
   "source": [
    "#8. Implement a class Person with a class method to count the total number of persons created.\n",
    "#Ans:-\n",
    "class Person:\n",
    "    # Class variable\n",
    "    count = 0\n",
    "\n",
    "    def __init__(self, name):\n",
    "        self.name = name\n",
    "        # Increase count when new object is created\n",
    "        Person.count += 1\n",
    "\n",
    "    # Class method to get total persons\n",
    "    @classmethod\n",
    "    def get_count(cls):\n",
    "        return cls.count\n",
    "\n",
    "\n",
    "# Creating objects\n",
    "p1 = Person(\"Alice\")\n",
    "p2 = Person(\"Bob\")\n",
    "p3 = Person(\"Charlie\")\n",
    "\n",
    "# Using class method\n",
    "print(\"Total Persons created:\", Person.get_count())\n"
   ]
  },
  {
   "cell_type": "code",
   "execution_count": 13,
   "id": "a5f28fa0",
   "metadata": {},
   "outputs": [
    {
     "name": "stdout",
     "output_type": "stream",
     "text": [
      "3/4\n",
      "7/8\n"
     ]
    }
   ],
   "source": [
    "#9. Write a class Fraction with attributes numerator and denominator. Override the str method to display the fraction as \"numerator/denominator\".\n",
    "#Ans:-\n",
    "class Fraction:\n",
    "    def __init__(self, numerator, denominator):\n",
    "        self.numerator = numerator\n",
    "        self.denominator = denominator\n",
    "\n",
    "    # Override __str__ method\n",
    "    def __str__(self):\n",
    "        return f\"{self.numerator}/{self.denominator}\"\n",
    "\n",
    "\n",
    "# Creating objects\n",
    "f1 = Fraction(3, 4)\n",
    "f2 = Fraction(7, 8)\n",
    "\n",
    "# Printing objects\n",
    "print(f1)   # Output: 3/4\n",
    "print(f2)   # Output: 7/8\n"
   ]
  },
  {
   "cell_type": "code",
   "execution_count": 14,
   "id": "88ba81ad",
   "metadata": {},
   "outputs": [
    {
     "name": "stdout",
     "output_type": "stream",
     "text": [
      "v1 + v2 = (6, 8)\n"
     ]
    }
   ],
   "source": [
    "#10. Demonstrate operator overloading by creating a class Vector and overriding the add method to add two vectors.\n",
    "#Ans:-\n",
    "class Vector:\n",
    "    def __init__(self, x, y):\n",
    "        self.x = x\n",
    "        self.y = y\n",
    "\n",
    "    # Overloading the + operator\n",
    "    def __add__(self, other):\n",
    "        return Vector(self.x + other.x, self.y + other.y)\n",
    "\n",
    "    # Override __str__ for easy printing\n",
    "    def __str__(self):\n",
    "        return f\"({self.x}, {self.y})\"\n",
    "\n",
    "\n",
    "# Creating vectors\n",
    "v1 = Vector(2, 3)\n",
    "v2 = Vector(4, 5)\n",
    "\n",
    "# Adding vectors using + operator\n",
    "v3 = v1 + v2\n",
    "\n",
    "# Display result\n",
    "print(\"v1 + v2 =\", v3)\n"
   ]
  },
  {
   "cell_type": "code",
   "execution_count": 16,
   "id": "905ca46c",
   "metadata": {},
   "outputs": [
    {
     "name": "stdout",
     "output_type": "stream",
     "text": [
      "Hello, my name is vaibhu and I am 25 years old.\n",
      "Hello, my name is sharma and I am 30 years old.\n"
     ]
    }
   ],
   "source": [
    "#11. Create a class Person with attributes name and age. Add a method greet() that prints \"Hello, my name is\n",
    "#{name} and I am {age} years old.\"\n",
    "#Ans:-\n",
    "class Person:\n",
    "    def __init__(self, name, age):\n",
    "        self.name = name\n",
    "        self.age = age\n",
    "\n",
    "    # Method to greet\n",
    "    def greet(self):\n",
    "        print(f\"Hello, my name is {self.name} and I am {self.age} years old.\")\n",
    "\n",
    "\n",
    "# Creating objects\n",
    "p1 = Person(\"vaibhu\", 25)\n",
    "p2 = Person(\"sharma\", 30)\n",
    "\n",
    "# Calling greet method\n",
    "p1.greet()\n",
    "p2.greet()\n",
    "\n",
    "\n"
   ]
  },
  {
   "cell_type": "code",
   "execution_count": 19,
   "id": "daf03237",
   "metadata": {},
   "outputs": [
    {
     "name": "stdout",
     "output_type": "stream",
     "text": [
      "vaibhu average grade: 84.33333333333333\n",
      "Brahman average grade: 78.75\n"
     ]
    }
   ],
   "source": [
    "#12. Implement a class Student with attributes name and grades. Create a method average_grade() to compute\n",
    "#the average of the grades.\n",
    "#Ans:-\n",
    "class Student:\n",
    "    def __init__(self, name, grades):\n",
    "        self.name = name\n",
    "        self.grades = grades  # list of numbers\n",
    "\n",
    "    # Method to compute average grade\n",
    "    def average_grade(self):\n",
    "        if len(self.grades) == 0:\n",
    "            return 0\n",
    "        return sum(self.grades) / len(self.grades)\n",
    "\n",
    "\n",
    "# Creating objects\n",
    "s1 = Student(\"vaibhu\", [85, 90, 78])\n",
    "s2 = Student(\"Brahman\", [70, 80, 75, 90])\n",
    "\n",
    "# Calling average_grade method\n",
    "print(f\"{s1.name} average grade: {s1.average_grade()}\")\n",
    "print(f\"{s2.name} average grade: {s2.average_grade()}\")\n"
   ]
  },
  {
   "cell_type": "code",
   "execution_count": 20,
   "id": "8ba697a0",
   "metadata": {},
   "outputs": [
    {
     "name": "stdout",
     "output_type": "stream",
     "text": [
      "Area of rectangle: 15\n"
     ]
    }
   ],
   "source": [
    "#13. Create a class Rectangle with methods set_dimensions() to set the dimensions and area() to calculate the area.\n",
    "#Ans:-\n",
    "class Rectangle:\n",
    "    def __init__(self):\n",
    "        self.length = 0\n",
    "        self.width = 0\n",
    "\n",
    "    # Method to set dimensions\n",
    "    def set_dimensions(self, length, width):\n",
    "        self.length = length\n",
    "        self.width = width\n",
    "\n",
    "    # Method to calculate area\n",
    "    def area(self):\n",
    "        return self.length * self.width\n",
    "\n",
    "\n",
    "# Creating object\n",
    "rect = Rectangle()\n",
    "\n",
    "# Setting dimensions\n",
    "rect.set_dimensions(5, 3)\n",
    "\n",
    "# Calculating area\n",
    "print(\"Area of rectangle:\", rect.area())\n"
   ]
  },
  {
   "cell_type": "code",
   "execution_count": 23,
   "id": "ba1e6742",
   "metadata": {},
   "outputs": [
    {
     "name": "stdout",
     "output_type": "stream",
     "text": [
      "vaibhav Salary: 800\n",
      "shiv Salary: 1500\n"
     ]
    }
   ],
   "source": [
    "#14. Create a class Employee with a method calculate_salary() that computes the salary based on hours worked\n",
    "#and hourly rate. Create a derived class Manager that adds a bonus to the salary.\n",
    "#Ans:-\n",
    "# Base class\n",
    "class Employee:\n",
    "    def __init__(self, name, hours_worked, hourly_rate):\n",
    "        self.name = name\n",
    "        self.hours_worked = hours_worked\n",
    "        self.hourly_rate = hourly_rate\n",
    "\n",
    "    # Method to calculate salary\n",
    "    def calculate_salary(self):\n",
    "        return self.hours_worked * self.hourly_rate\n",
    "\n",
    "\n",
    "# Derived class\n",
    "class Manager(Employee):\n",
    "    def __init__(self, name, hours_worked, hourly_rate, bonus):\n",
    "        super().__init__(name, hours_worked, hourly_rate)\n",
    "        self.bonus = bonus\n",
    "\n",
    "    # Overriding method to include bonus\n",
    "    def calculate_salary(self):\n",
    "        base_salary = super().calculate_salary()\n",
    "        return base_salary + self.bonus\n",
    "\n",
    "\n",
    "# Creating objects\n",
    "emp = Employee(\"vaibhav\", 40, 20)\n",
    "mgr = Manager(\"shiv\", 40, 25, 500)\n",
    "\n",
    "# Calculating salaries\n",
    "print(f\"{emp.name} Salary: {emp.calculate_salary()}\")\n",
    "print(f\"{mgr.name} Salary: {mgr.calculate_salary()}\")\n"
   ]
  },
  {
   "cell_type": "code",
   "execution_count": 25,
   "id": "affb6857",
   "metadata": {},
   "outputs": [
    {
     "name": "stdout",
     "output_type": "stream",
     "text": [
      "Laptop total price: 1000\n",
      "Phone total price: 1500\n"
     ]
    }
   ],
   "source": [
    "#15. Create a class Product with attributes name, price, and quantity. Implement a method total_price() that\n",
    "#calculates the total price of the product.\n",
    "#Ans:-\n",
    "class Product:\n",
    "    def __init__(self, name, price, quantity):\n",
    "        self.name = name\n",
    "        self.price = price\n",
    "        self.quantity = quantity\n",
    "\n",
    "    # Method to calculate total price\n",
    "    def total_price(self):\n",
    "        return self.price * self.quantity\n",
    "\n",
    "\n",
    "# Creating objects\n",
    "p1 = Product(\"Laptop\", 500, 2)\n",
    "p2 = Product(\"Phone\", 300, 5)\n",
    "\n",
    "# Calculating total prices\n",
    "print(f\"{p1.name} total price: {p1.total_price()}\")\n",
    "print(f\"{p2.name} total price: {p2.total_price()}\")\n"
   ]
  },
  {
   "cell_type": "code",
   "execution_count": 26,
   "id": "1769fa84",
   "metadata": {},
   "outputs": [
    {
     "name": "stdout",
     "output_type": "stream",
     "text": [
      "Cow says Moo\n",
      "Sheep says Baa\n"
     ]
    }
   ],
   "source": [
    "#16. Create a class Animal with an abstract method sound(). Create two derived classes Cow and Sheep that implement the sound() method.\n",
    "#Ans:-\n",
    "from abc import ABC, abstractmethod\n",
    "\n",
    "# Abstract class\n",
    "class Animal(ABC):\n",
    "    @abstractmethod\n",
    "    def sound(self):\n",
    "        pass\n",
    "\n",
    "# Derived class - Cow\n",
    "class Cow(Animal):\n",
    "    def sound(self):\n",
    "        print(\"Cow says Moo\")\n",
    "\n",
    "# Derived class - Sheep\n",
    "class Sheep(Animal):\n",
    "    def sound(self):\n",
    "        print(\"Sheep says Baa\")\n",
    "\n",
    "# Creating objects\n",
    "cow = Cow()\n",
    "sheep = Sheep()\n",
    "\n",
    "# Calling sound() method\n",
    "cow.sound()\n",
    "sheep.sound()\n"
   ]
  },
  {
   "cell_type": "code",
   "execution_count": 27,
   "id": "b05de444",
   "metadata": {},
   "outputs": [
    {
     "name": "stdout",
     "output_type": "stream",
     "text": [
      "Title: 1984, Author: George Orwell, Year Published: 1949\n",
      "Title: To Kill a Mockingbird, Author: Harper Lee, Year Published: 1960\n"
     ]
    }
   ],
   "source": [
    "#17. Create a class Book with attributes title, author, and year_published. Add a method get_book_info() that\n",
    "#returns a formatted string with the book's details.\n",
    "#Ans:-\n",
    "class Book:\n",
    "    def __init__(self, title, author, year_published):\n",
    "        self.title = title\n",
    "        self.author = author\n",
    "        self.year_published = year_published\n",
    "\n",
    "    # Method to return book info\n",
    "    def get_book_info(self):\n",
    "        return f\"Title: {self.title}, Author: {self.author}, Year Published: {self.year_published}\"\n",
    "\n",
    "\n",
    "# Creating objects\n",
    "book1 = Book(\"1984\", \"George Orwell\", 1949)\n",
    "book2 = Book(\"To Kill a Mockingbird\", \"Harper Lee\", 1960)\n",
    "\n",
    "# Getting book info\n",
    "print(book1.get_book_info())\n",
    "print(book2.get_book_info())\n"
   ]
  },
  {
   "cell_type": "code",
   "execution_count": 30,
   "id": "0ebf05de",
   "metadata": {},
   "outputs": [
    {
     "name": "stdout",
     "output_type": "stream",
     "text": [
      "House: Address: 123 Main St, Price: 200000\n",
      "Address: 456 Luxury Ave, Price: 1000000, Rooms: 10\n"
     ]
    }
   ],
   "source": [
    "#18. Create a class House with attributes address and price. Create a derived class Mansion that adds an attribute number_of_rooms.\n",
    "#Ans:-\n",
    "# Base class\n",
    "class House:\n",
    "    def __init__(self, address, price):\n",
    "        self.address = address\n",
    "        self.price = price\n",
    "\n",
    "# Derived class\n",
    "class Mansion(House):\n",
    "    def __init__(self, address, price, number_of_rooms):\n",
    "        super().__init__(address, price)  # call base class constructor\n",
    "        self.number_of_rooms = number_of_rooms\n",
    "\n",
    "    # Method to display info\n",
    "    def display_info(self):\n",
    "        print(f\"Address: {self.address}, Price: {self.price}, Rooms: {self.number_of_rooms}\")\n",
    "\n",
    "\n",
    "# Creating objects\n",
    "h1 = House(\"123 Main St\", 200000)\n",
    "m1 = Mansion(\"456 Luxury Ave\", 1000000, 10)\n",
    "\n",
    "# Displaying info\n",
    "print(f\"House: Address: {h1.address}, Price: {h1.price}\")\n",
    "m1.display_info()\n"
   ]
  },
  {
   "cell_type": "markdown",
   "id": "4576c671",
   "metadata": {},
   "source": [
    " # Thankyou sir for this oppurtunity"
   ]
  },
  {
   "cell_type": "code",
   "execution_count": null,
   "id": "a0ef4055",
   "metadata": {},
   "outputs": [],
   "source": []
  }
 ],
 "metadata": {
  "kernelspec": {
   "display_name": "Python 3",
   "language": "python",
   "name": "python3"
  },
  "language_info": {
   "codemirror_mode": {
    "name": "ipython",
    "version": 3
   },
   "file_extension": ".py",
   "mimetype": "text/x-python",
   "name": "python",
   "nbconvert_exporter": "python",
   "pygments_lexer": "ipython3",
   "version": "3.13.6"
  }
 },
 "nbformat": 4,
 "nbformat_minor": 5
}
